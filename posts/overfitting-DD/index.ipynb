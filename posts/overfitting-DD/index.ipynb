{
 "cells": [
  {
   "cell_type": "raw",
   "metadata": {
    "vscode": {
     "languageId": "raw"
    }
   },
   "source": [
    "---\n",
    "title: Overfitting and Double Descent\n",
    "author: Kusuma Kumar\n",
    "date: '2025-04-20'\n",
    "image: \"image.jpg\"\n",
    "description: TODO\n",
    "format: html\n",
    "---"
   ]
  },
  {
   "cell_type": "markdown",
   "metadata": {},
   "source": [
    "\n",
    "\n",
    "# Abstract\n",
    "\n",
    "TODO\n"
   ]
  },
  {
   "cell_type": "raw",
   "metadata": {
    "vscode": {
     "languageId": "raw"
    }
   },
   "source": [
    "def sig(x): \n",
    "    return 1/(1+torch.exp(-x))\n",
    "\n",
    "def square(x): \n",
    "    return x**2\n",
    "\n",
    "class RandomFeatures:\n",
    "    \"\"\"\n",
    "    Random sigmoidal feature map. This feature map must be \"fit\" before use, like this: \n",
    "\n",
    "    phi = RandomFeatures(n_features = 10)\n",
    "    phi.fit(X_train)\n",
    "    X_train_phi = phi.transform(X_train)\n",
    "    X_test_phi = phi.transform(X_test)\n",
    "\n",
    "    model.fit(X_train_phi, y_train)\n",
    "    model.score(X_test_phi, y_test)\n",
    "\n",
    "    It is important to fit the feature map once on the training set and zero times on the test set. \n",
    "    \"\"\"\n",
    "\n",
    "    def __init__(self, n_features, activation = sig):\n",
    "        self.n_features = n_features\n",
    "        self.u = None\n",
    "        self.b = None\n",
    "        self.activation = activation\n",
    "\n",
    "    def fit(self, X):\n",
    "        self.u = torch.randn((X.size()[1], self.n_features), dtype = torch.float64)\n",
    "        self.b = torch.rand((self.n_features), dtype = torch.float64) \n",
    "\n",
    "    def transform(self, X):\n",
    "        return self.activation(X @ self.u + self.b)"
   ]
  },
  {
   "cell_type": "markdown",
   "metadata": {},
   "source": [
    "To ‍‍‍‍‍‍‍‍‍‍‍‍‍‍‍‍‍‍‍‍generate ‍‍‍‍‍‍‍‍‍‍‍‍‍‍‍‍‍‍‍‍features ‍‍‍‍‍‍‍‍‍‍‍‍‍‍‍‍‍‍‍‍from ‍a ‍‍‍‍‍‍‍‍‍‍‍‍‍data ‍‍‍‍‍‍‍‍‍‍‍‍‍‍‍‍‍‍‍‍matrix,‍‍‍‍‍‍‍‍‍‍‍‍‍‍‍‍‍‍ ‍‍‍‍‍‍‍‍‍‍‍‍‍‍‍‍‍‍‍‍we ‍‍‍‍‍‍‍‍‍‍‍‍‍‍‍‍‍‍‍‍run ‍‍‍‍‍‍‍‍‍‍‍‍‍‍‍‍‍‍‍‍the ‍‍‍‍‍‍‍‍‍‍‍‍‍‍‍‍‍‍‍‍following:"
   ]
  },
  {
   "cell_type": "raw",
   "metadata": {
    "vscode": {
     "languageId": "raw"
    }
   },
   "source": [
    "phi = RandomFeatures()\n",
    "phi.fit(X_train)\n",
    "X_train_features = phi.transform(X_train)\n",
    "X_test_features  = phi.transform(X_test)\n",
    "\n",
    "#... remainder of machine learning pipeline"
   ]
  }
 ],
 "metadata": {
  "kernelspec": {
   "display_name": "ml-0451",
   "language": "python",
   "name": "python3"
  },
  "language_info": {
   "codemirror_mode": {
    "name": "ipython",
    "version": 3
   },
   "file_extension": ".py",
   "mimetype": "text/x-python",
   "name": "python",
   "nbconvert_exporter": "python",
   "pygments_lexer": "ipython3",
   "version": "3.9.21"
  }
 },
 "nbformat": 4,
 "nbformat_minor": 4
}
